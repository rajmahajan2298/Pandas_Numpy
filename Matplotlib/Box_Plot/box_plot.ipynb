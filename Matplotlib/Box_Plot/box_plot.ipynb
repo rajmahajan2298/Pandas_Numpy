{
 "cells": [
  {
   "cell_type": "code",
   "execution_count": 3,
   "id": "8fe8eb20",
   "metadata": {},
   "outputs": [],
   "source": [
    "import numpy as np\n",
    "import matplotlib.pyplot as plt\n",
    "%matplotlib inline"
   ]
  },
  {
   "cell_type": "code",
   "execution_count": 4,
   "id": "807ed180",
   "metadata": {},
   "outputs": [],
   "source": [
    "#Defining our Dataset\n",
    "\n",
    "dataset = [11,10,12,14,12,15,14,13,1,102,12,14,17,19,107,10,13,12,14,12,108,12,11,14,13,15,10,1,12,10,14,13,15,10]\n"
   ]
  },
  {
   "cell_type": "code",
   "execution_count": 5,
   "id": "cac17534",
   "metadata": {},
   "outputs": [
    {
     "data": {
      "text/plain": [
       "(array([ 9., 22.,  0.,  0.,  0.,  0.,  0.,  0.,  0.,  3.]),\n",
       " array([  1. ,  11.7,  22.4,  33.1,  43.8,  54.5,  65.2,  75.9,  86.6,\n",
       "         97.3, 108. ]),\n",
       " <BarContainer object of 10 artists>)"
      ]
     },
     "execution_count": 5,
     "metadata": {},
     "output_type": "execute_result"
    },
    {
     "data": {
      "image/png": "[encoded data removed]",
      "text/plain": [
       "<Figure size 640x480 with 1 Axes>"
      ]
     },
     "metadata": {},
     "output_type": "display_data"
    }
   ],
   "source": [
    "plt.hist(dataset)"
   ]
  },
  {
   "cell_type": "code",
   "execution_count": 9,
   "id": "2cd2839e",
   "metadata": {},
   "outputs": [],
   "source": [
    "#Function to find outliers using z-score nd 3rd Standard Deviation\n",
    "\n",
    "outliers=[]\n",
    "\n",
    "def detect_outlier(data):\n",
    "    threshold = 3 #Means 3rd STD\n",
    "    mean = np.mean(data)\n",
    "    std = np.std(data)\n",
    "    \n",
    "    for i in data:\n",
    "        z_score = (i-mean)/std\n",
    "        \n",
    "        if np.abs(z_score)>threshold:\n",
    "            outliers.append(i)\n",
    "            \n",
    "    return outliers"
   ]
  },
  {
   "cell_type": "code",
   "execution_count": 10,
   "id": "705cd055",
   "metadata": {},
   "outputs": [
    {
     "data": {
      "text/plain": [
       "[102, 107, 108]"
      ]
     },
     "execution_count": 10,
     "metadata": {},
     "output_type": "execute_result"
    }
   ],
   "source": [
    "detect_outlier(dataset)"
   ]
  },
  {
   "cell_type": "code",
   "execution_count": 11,
   "id": "8745e42c",
   "metadata": {},
   "outputs": [],
   "source": [
    "#Using IQR\n",
    "\n",
    "#Sort the value\n",
    "#Calculate Q1 and Q3\n",
    "#Find IQR\n",
    "#Find Lower and Higher Fence"
   ]
  },
  {
   "cell_type": "code",
   "execution_count": 14,
   "id": "a060b7ef",
   "metadata": {},
   "outputs": [],
   "source": [
    "#sort the value\n",
    "\n",
    "dataset=sorted(dataset)"
   ]
  },
  {
   "cell_type": "code",
   "execution_count": 16,
   "id": "32138ecd",
   "metadata": {},
   "outputs": [
    {
     "name": "stdout",
     "output_type": "stream",
     "text": [
      "11.25 14.0\n"
     ]
    }
   ],
   "source": [
    "#Calculate q1 and q3\n",
    "\n",
    "q1,q3 = np.percentile(dataset,[25,75])\n",
    "print(q1,q3)"
   ]
  },
  {
   "cell_type": "code",
   "execution_count": 17,
   "id": "11cef2c0",
   "metadata": {},
   "outputs": [
    {
     "name": "stdout",
     "output_type": "stream",
     "text": [
      "2.75\n"
     ]
    }
   ],
   "source": [
    "#calculate iqr\n",
    "\n",
    "iqr = q3-q1\n",
    "print(iqr)"
   ]
  },
  {
   "cell_type": "code",
   "execution_count": 18,
   "id": "3557cbe7",
   "metadata": {},
   "outputs": [
    {
     "name": "stdout",
     "output_type": "stream",
     "text": [
      "7.125\n"
     ]
    }
   ],
   "source": [
    "#Find lower fence\n",
    "\n",
    "lower_fence = q1 - 1.5*(iqr)\n",
    "print(lower_fence)"
   ]
  },
  {
   "cell_type": "code",
   "execution_count": 19,
   "id": "aced5c30",
   "metadata": {},
   "outputs": [
    {
     "name": "stdout",
     "output_type": "stream",
     "text": [
      "18.125\n"
     ]
    }
   ],
   "source": [
    "higher_fence = q3 + 1.5*(iqr)\n",
    "print(higher_fence)"
   ]
  },
  {
   "cell_type": "code",
   "execution_count": null,
   "id": "a22d58cc",
   "metadata": {},
   "outputs": [],
   "source": []
  }
 ],
 "metadata": {
  "kernelspec": {
   "display_name": "Python 3 (ipykernel)",
   "language": "python",
   "name": "python3"
  },
  "language_info": {
   "codemirror_mode": {
    "name": "ipython",
    "version": 3
   },
   "file_extension": ".py",
   "mimetype": "text/x-python",
   "name": "python",
   "nbconvert_exporter": "python",
   "pygments_lexer": "ipython3",
   "version": "3.11.7"
  }
 },
 "nbformat": 4,
 "nbformat_minor": 5
}
