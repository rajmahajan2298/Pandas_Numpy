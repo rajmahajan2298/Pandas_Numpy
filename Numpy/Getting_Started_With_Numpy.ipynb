{
 "cells": [
  {
   "cell_type": "code",
   "execution_count": null,
   "id": "b4eb99df",
   "metadata": {},
   "outputs": [],
   "source": []
  },
  {
   "cell_type": "code",
   "execution_count": 5,
   "id": "a93958f0",
   "metadata": {},
   "outputs": [],
   "source": [
    "#Numpy Basic Understanding\n",
    "\n",
    "#Numpy is extremely used popular python libary. It is heavily used in Scintific computing.\n",
    "#Numpy's most useful feature is n dimensional array object which is also know as (ndarray)\n",
    "\n",
    "#Three Main Benefits of Numpy over Python List\n",
    "\n",
    "#Less Memory( Numpy array takes less bite as it is directly poiniting to values, Python list first points to pointer than the value)\n",
    "#Fast\n",
    "#Convivent\n",
    "\n",
    "#np.array method is used to create a array\n",
    "\n",
    "#np.arange(Used to set range of the element)\n",
    "#array.size is the total length of array\n",
    "#array.itemsize is the size of indiviual element\n",
    "#array.ndim shows dimesnisons of array\n",
    "#a.dtype shows data type\n",
    "#a.shape(3,2) represent the inforamtion on dimensions(3 rows, 2 cols)\n",
    "\n",
    "#np.zeros((3,4)) creates arrays of zero with 3 rows and 4 cols\n",
    "#np.ones((3,4))\n",
    "#np.linspace(1,5,10) it will start at 1 stop at 5 and will create linearly space between 1 to 5\n",
    "\n",
    "#a.reshape(2,3) reshape the array to 2 rows and 3 cols but it will compitable with intial dimesnsions\n",
    "#a.ravel() Flaten the array to 1-D array but it will create new array it will not touch the original array\n",
    "\n",
    "#a.min()\n",
    "#a.max()\n",
    "#a.sum()\n",
    "#np.std(a) --- Standard Deviation\n",
    "#np.sqrt(a) --- Square of a number\n",
    "#Axis means dimensions axis(0) -- Means Cols axis(1) --- Means Rows\n",
    "#a.sum(axis = 0) Sum of Col\n",
    "#a.sum(axis = 1) Sum of Row\n",
    "#a.dot(b) --- It will Perform the matrix Product"
   ]
  },
  {
   "cell_type": "code",
   "execution_count": 4,
   "id": "2fc27a25",
   "metadata": {},
   "outputs": [
    {
     "data": {
      "text/plain": [
       "1"
      ]
     },
     "execution_count": 4,
     "metadata": {},
     "output_type": "execute_result"
    }
   ],
   "source": [
    "import numpy as np\n",
    "\n",
    "a = np.array([1,2,3]) #1-D Array\n",
    "a[0]\n"
   ]
  },
  {
   "cell_type": "code",
   "execution_count": 8,
   "id": "8d64162d",
   "metadata": {},
   "outputs": [
    {
     "data": {
      "text/plain": [
       "array([0.25, 0.4 , 0.5 ])"
      ]
     },
     "execution_count": 8,
     "metadata": {},
     "output_type": "execute_result"
    }
   ],
   "source": [
    "import numpy as np\n",
    "\n",
    "a1 = np.array([1,2,3])\n",
    "a2 = np.array([4,5,6])\n",
    "a1 + a2\n",
    "a1 - a2\n",
    "a1 * a2\n",
    "a1 / a2"
   ]
  },
  {
   "cell_type": "code",
   "execution_count": 12,
   "id": "ea37b604",
   "metadata": {},
   "outputs": [
    {
     "data": {
      "text/plain": [
       "(3, 2)"
      ]
     },
     "execution_count": 12,
     "metadata": {},
     "output_type": "execute_result"
    }
   ],
   "source": [
    "import numpy as np\n",
    "\n",
    "a = np.array([[1,2], [3,4], [5,6]]) #2-D Array\n",
    "a\n",
    "a.ndim\n",
    "a.shape\n"
   ]
  },
  {
   "cell_type": "code",
   "execution_count": 2,
   "id": "2062c681",
   "metadata": {},
   "outputs": [
    {
     "data": {
      "text/plain": [
       "array([[0., 0., 0., 0.],\n",
       "       [0., 0., 0., 0.],\n",
       "       [0., 0., 0., 0.]])"
      ]
     },
     "execution_count": 2,
     "metadata": {},
     "output_type": "execute_result"
    }
   ],
   "source": [
    "import numpy as np\n",
    "a = np.zeros((3,4))\n",
    "a"
   ]
  },
  {
   "cell_type": "code",
   "execution_count": 3,
   "id": "255423f9",
   "metadata": {},
   "outputs": [
    {
     "data": {
      "text/plain": [
       "array([[1., 1., 1., 1.],\n",
       "       [1., 1., 1., 1.],\n",
       "       [1., 1., 1., 1.]])"
      ]
     },
     "execution_count": 3,
     "metadata": {},
     "output_type": "execute_result"
    }
   ],
   "source": [
    "a = np.ones((3,4))\n",
    "a"
   ]
  },
  {
   "cell_type": "code",
   "execution_count": 6,
   "id": "7319b018",
   "metadata": {},
   "outputs": [
    {
     "data": {
      "text/plain": [
       "array([[1.+0.j, 2.+0.j],\n",
       "       [3.+0.j, 4.+0.j],\n",
       "       [5.+0.j, 6.+0.j]])"
      ]
     },
     "execution_count": 6,
     "metadata": {},
     "output_type": "execute_result"
    }
   ],
   "source": [
    "a = np.array([[1,2],[3,4],[5,6]], dtype=complex)\n",
    "a"
   ]
  },
  {
   "cell_type": "code",
   "execution_count": 7,
   "id": "db3bd5b0",
   "metadata": {},
   "outputs": [
    {
     "data": {
      "text/plain": [
       "array([[1., 2.],\n",
       "       [3., 4.],\n",
       "       [5., 6.]])"
      ]
     },
     "execution_count": 7,
     "metadata": {},
     "output_type": "execute_result"
    }
   ],
   "source": [
    "a = np.array([[1,2],[3,4],[5,6]], dtype=np.float64)\n",
    "a"
   ]
  },
  {
   "cell_type": "code",
   "execution_count": 8,
   "id": "d045447e",
   "metadata": {},
   "outputs": [
    {
     "data": {
      "text/plain": [
       "array([1.        , 1.44444444, 1.88888889, 2.33333333, 2.77777778,\n",
       "       3.22222222, 3.66666667, 4.11111111, 4.55555556, 5.        ])"
      ]
     },
     "execution_count": 8,
     "metadata": {},
     "output_type": "execute_result"
    }
   ],
   "source": [
    "a = np.linspace(1,5,10)\n",
    "a"
   ]
  },
  {
   "cell_type": "code",
   "execution_count": 9,
   "id": "8388aa7a",
   "metadata": {},
   "outputs": [
    {
     "data": {
      "text/plain": [
       "array([1.        , 1.21052632, 1.42105263, 1.63157895, 1.84210526,\n",
       "       2.05263158, 2.26315789, 2.47368421, 2.68421053, 2.89473684,\n",
       "       3.10526316, 3.31578947, 3.52631579, 3.73684211, 3.94736842,\n",
       "       4.15789474, 4.36842105, 4.57894737, 4.78947368, 5.        ])"
      ]
     },
     "execution_count": 9,
     "metadata": {},
     "output_type": "execute_result"
    }
   ],
   "source": [
    "a = np.linspace(1,5,20)\n",
    "a"
   ]
  },
  {
   "cell_type": "code",
   "execution_count": 10,
   "id": "3906358c",
   "metadata": {},
   "outputs": [
    {
     "data": {
      "text/plain": [
       "60.00000000000001"
      ]
     },
     "execution_count": 10,
     "metadata": {},
     "output_type": "execute_result"
    }
   ],
   "source": [
    "a.sum(axis=0)\n"
   ]
  },
  {
   "cell_type": "code",
   "execution_count": null,
   "id": "10757a51",
   "metadata": {},
   "outputs": [],
   "source": []
  }
 ],
 "metadata": {
  "kernelspec": {
   "display_name": "Python 3 (ipykernel)",
   "language": "python",
   "name": "python3"
  },
  "language_info": {
   "codemirror_mode": {
    "name": "ipython",
    "version": 3
   },
   "file_extension": ".py",
   "mimetype": "text/x-python",
   "name": "python",
   "nbconvert_exporter": "python",
   "pygments_lexer": "ipython3",
   "version": "3.11.7"
  }
 },
 "nbformat": 4,
 "nbformat_minor": 5
}
