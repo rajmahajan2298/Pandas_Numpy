{
 "cells": [
  {
   "cell_type": "code",
   "execution_count": null,
   "id": "d59aa4a9",
   "metadata": {},
   "outputs": [],
   "source": [
    "#Getting started with pandas -\n",
    "\n",
    "#Pandas is a python module that makes data science easy and effective.\n",
    "\n",
    "#Data Mugging - The Process of cleaning the Messy Data is called Data Mugging or Data Wrangling\n"
   ]
  }
 ],
 "metadata": {
  "kernelspec": {
   "display_name": "Python 3 (ipykernel)",
   "language": "python",
   "name": "python3"
  },
  "language_info": {
   "codemirror_mode": {
    "name": "ipython",
    "version": 3
   },
   "file_extension": ".py",
   "mimetype": "text/x-python",
   "name": "python",
   "nbconvert_exporter": "python",
   "pygments_lexer": "ipython3",
   "version": "3.11.7"
  }
 },
 "nbformat": 4,
 "nbformat_minor": 5
}
