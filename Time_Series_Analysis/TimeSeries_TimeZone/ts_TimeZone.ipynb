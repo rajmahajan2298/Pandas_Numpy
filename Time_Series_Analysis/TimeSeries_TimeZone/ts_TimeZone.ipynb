{
 "cells": [
  {
   "cell_type": "code",
   "execution_count": 1,
   "id": "7c319004",
   "metadata": {},
   "outputs": [
    {
     "data": {
      "text/html": [
       "<div>\n",
       "<style scoped>\n",
       "    .dataframe tbody tr th:only-of-type {\n",
       "        vertical-align: middle;\n",
       "    }\n",
       "\n",
       "    .dataframe tbody tr th {\n",
       "        vertical-align: top;\n",
       "    }\n",
       "\n",
       "    .dataframe thead th {\n",
       "        text-align: right;\n",
       "    }\n",
       "</style>\n",
       "<table border=\"1\" class=\"dataframe\">\n",
       "  <thead>\n",
       "    <tr style=\"text-align: right;\">\n",
       "      <th></th>\n",
       "      <th>Price</th>\n",
       "    </tr>\n",
       "    <tr>\n",
       "      <th>Date Time</th>\n",
       "      <th></th>\n",
       "    </tr>\n",
       "  </thead>\n",
       "  <tbody>\n",
       "    <tr>\n",
       "      <th>2017-08-17 09:00:00</th>\n",
       "      <td>72.38</td>\n",
       "    </tr>\n",
       "    <tr>\n",
       "      <th>2017-08-17 09:15:00</th>\n",
       "      <td>71.00</td>\n",
       "    </tr>\n",
       "    <tr>\n",
       "      <th>2017-08-17 09:30:00</th>\n",
       "      <td>71.67</td>\n",
       "    </tr>\n",
       "    <tr>\n",
       "      <th>2017-08-17 10:00:00</th>\n",
       "      <td>72.80</td>\n",
       "    </tr>\n",
       "    <tr>\n",
       "      <th>2017-08-17 10:30:00</th>\n",
       "      <td>73.00</td>\n",
       "    </tr>\n",
       "    <tr>\n",
       "      <th>2017-08-17 11:00:00</th>\n",
       "      <td>72.50</td>\n",
       "    </tr>\n",
       "  </tbody>\n",
       "</table>\n",
       "</div>"
      ],
      "text/plain": [
       "                     Price\n",
       "Date Time                 \n",
       "2017-08-17 09:00:00  72.38\n",
       "2017-08-17 09:15:00  71.00\n",
       "2017-08-17 09:30:00  71.67\n",
       "2017-08-17 10:00:00  72.80\n",
       "2017-08-17 10:30:00  73.00\n",
       "2017-08-17 11:00:00  72.50"
      ]
     },
     "execution_count": 1,
     "metadata": {},
     "output_type": "execute_result"
    }
   ],
   "source": [
    "import pandas as pd\n",
    "\n",
    "df = pd.read_csv(\"C:/Users/hp/Pandas/Time_Series_Analysis/TimeSeries_TimeZone/msft.csv\", header=1, index_col=\"Date Time\", parse_dates=True)\n",
    "df"
   ]
  },
  {
   "cell_type": "code",
   "execution_count": 2,
   "id": "eeea3493",
   "metadata": {},
   "outputs": [
    {
     "ename": "NameError",
     "evalue": "name 'index' is not defined",
     "output_type": "error",
     "traceback": [
      "\u001b[1;31m---------------------------------------------------------------------------\u001b[0m",
      "\u001b[1;31mNameError\u001b[0m                                 Traceback (most recent call last)",
      "Cell \u001b[1;32mIn[2], line 1\u001b[0m\n\u001b[1;32m----> 1\u001b[0m df,index\n",
      "\u001b[1;31mNameError\u001b[0m: name 'index' is not defined"
     ]
    }
   ],
   "source": [
    "df,index"
   ]
  },
  {
   "cell_type": "code",
   "execution_count": 3,
   "id": "5469c1ef",
   "metadata": {},
   "outputs": [
    {
     "data": {
      "text/plain": [
       "DatetimeIndex(['2017-08-17 09:00:00', '2017-08-17 09:15:00',\n",
       "               '2017-08-17 09:30:00', '2017-08-17 10:00:00',\n",
       "               '2017-08-17 10:30:00', '2017-08-17 11:00:00'],\n",
       "              dtype='datetime64[ns]', name='Date Time', freq=None)"
      ]
     },
     "execution_count": 3,
     "metadata": {},
     "output_type": "execute_result"
    }
   ],
   "source": [
    "df.index"
   ]
  },
  {
   "cell_type": "code",
   "execution_count": 4,
   "id": "6c3e1fca",
   "metadata": {},
   "outputs": [
    {
     "data": {
      "text/plain": [
       "DatetimeIndex(['2017-08-17 09:00:00-04:00', '2017-08-17 09:15:00-04:00',\n",
       "               '2017-08-17 09:30:00-04:00', '2017-08-17 10:00:00-04:00',\n",
       "               '2017-08-17 10:30:00-04:00', '2017-08-17 11:00:00-04:00'],\n",
       "              dtype='datetime64[ns, US/Eastern]', name='Date Time', freq=None)"
      ]
     },
     "execution_count": 4,
     "metadata": {},
     "output_type": "execute_result"
    }
   ],
   "source": [
    "df = df.tz_localize(tz='US/Eastern')\n",
    "df.index"
   ]
  },
  {
   "cell_type": "code",
   "execution_count": 6,
   "id": "5d52e1e5",
   "metadata": {},
   "outputs": [
    {
     "data": {
      "text/html": [
       "<div>\n",
       "<style scoped>\n",
       "    .dataframe tbody tr th:only-of-type {\n",
       "        vertical-align: middle;\n",
       "    }\n",
       "\n",
       "    .dataframe tbody tr th {\n",
       "        vertical-align: top;\n",
       "    }\n",
       "\n",
       "    .dataframe thead th {\n",
       "        text-align: right;\n",
       "    }\n",
       "</style>\n",
       "<table border=\"1\" class=\"dataframe\">\n",
       "  <thead>\n",
       "    <tr style=\"text-align: right;\">\n",
       "      <th></th>\n",
       "      <th>Price</th>\n",
       "    </tr>\n",
       "    <tr>\n",
       "      <th>Date Time</th>\n",
       "      <th></th>\n",
       "    </tr>\n",
       "  </thead>\n",
       "  <tbody>\n",
       "    <tr>\n",
       "      <th>2017-08-17 15:00:00+02:00</th>\n",
       "      <td>72.38</td>\n",
       "    </tr>\n",
       "    <tr>\n",
       "      <th>2017-08-17 15:15:00+02:00</th>\n",
       "      <td>71.00</td>\n",
       "    </tr>\n",
       "    <tr>\n",
       "      <th>2017-08-17 15:30:00+02:00</th>\n",
       "      <td>71.67</td>\n",
       "    </tr>\n",
       "    <tr>\n",
       "      <th>2017-08-17 16:00:00+02:00</th>\n",
       "      <td>72.80</td>\n",
       "    </tr>\n",
       "    <tr>\n",
       "      <th>2017-08-17 16:30:00+02:00</th>\n",
       "      <td>73.00</td>\n",
       "    </tr>\n",
       "    <tr>\n",
       "      <th>2017-08-17 17:00:00+02:00</th>\n",
       "      <td>72.50</td>\n",
       "    </tr>\n",
       "  </tbody>\n",
       "</table>\n",
       "</div>"
      ],
      "text/plain": [
       "                           Price\n",
       "Date Time                       \n",
       "2017-08-17 15:00:00+02:00  72.38\n",
       "2017-08-17 15:15:00+02:00  71.00\n",
       "2017-08-17 15:30:00+02:00  71.67\n",
       "2017-08-17 16:00:00+02:00  72.80\n",
       "2017-08-17 16:30:00+02:00  73.00\n",
       "2017-08-17 17:00:00+02:00  72.50"
      ]
     },
     "execution_count": 6,
     "metadata": {},
     "output_type": "execute_result"
    }
   ],
   "source": [
    "df = df.tz_convert(tz='Europe/Berlin')\n",
    "df"
   ]
  },
  {
   "cell_type": "code",
   "execution_count": 8,
   "id": "d10e2006",
   "metadata": {},
   "outputs": [
    {
     "data": {
      "text/html": [
       "<div>\n",
       "<style scoped>\n",
       "    .dataframe tbody tr th:only-of-type {\n",
       "        vertical-align: middle;\n",
       "    }\n",
       "\n",
       "    .dataframe tbody tr th {\n",
       "        vertical-align: top;\n",
       "    }\n",
       "\n",
       "    .dataframe thead th {\n",
       "        text-align: right;\n",
       "    }\n",
       "</style>\n",
       "<table border=\"1\" class=\"dataframe\">\n",
       "  <thead>\n",
       "    <tr style=\"text-align: right;\">\n",
       "      <th></th>\n",
       "      <th>Price</th>\n",
       "    </tr>\n",
       "    <tr>\n",
       "      <th>Date Time</th>\n",
       "      <th></th>\n",
       "    </tr>\n",
       "  </thead>\n",
       "  <tbody>\n",
       "    <tr>\n",
       "      <th>2017-08-17 18:30:00+05:30</th>\n",
       "      <td>72.38</td>\n",
       "    </tr>\n",
       "    <tr>\n",
       "      <th>2017-08-17 18:45:00+05:30</th>\n",
       "      <td>71.00</td>\n",
       "    </tr>\n",
       "    <tr>\n",
       "      <th>2017-08-17 19:00:00+05:30</th>\n",
       "      <td>71.67</td>\n",
       "    </tr>\n",
       "    <tr>\n",
       "      <th>2017-08-17 19:30:00+05:30</th>\n",
       "      <td>72.80</td>\n",
       "    </tr>\n",
       "    <tr>\n",
       "      <th>2017-08-17 20:00:00+05:30</th>\n",
       "      <td>73.00</td>\n",
       "    </tr>\n",
       "    <tr>\n",
       "      <th>2017-08-17 20:30:00+05:30</th>\n",
       "      <td>72.50</td>\n",
       "    </tr>\n",
       "  </tbody>\n",
       "</table>\n",
       "</div>"
      ],
      "text/plain": [
       "                           Price\n",
       "Date Time                       \n",
       "2017-08-17 18:30:00+05:30  72.38\n",
       "2017-08-17 18:45:00+05:30  71.00\n",
       "2017-08-17 19:00:00+05:30  71.67\n",
       "2017-08-17 19:30:00+05:30  72.80\n",
       "2017-08-17 20:00:00+05:30  73.00\n",
       "2017-08-17 20:30:00+05:30  72.50"
      ]
     },
     "execution_count": 8,
     "metadata": {},
     "output_type": "execute_result"
    }
   ],
   "source": [
    "df = df.tz_convert(tz='Asia/Calcutta')\n",
    "df"
   ]
  },
  {
   "cell_type": "code",
   "execution_count": 10,
   "id": "26f0d190",
   "metadata": {},
   "outputs": [
    {
     "data": {
      "text/plain": [
       "DatetimeIndex(['2017-01-01 00:00:00+00:00', '2017-01-01 01:00:00+00:00',\n",
       "               '2017-01-01 02:00:00+00:00', '2017-01-01 03:00:00+00:00',\n",
       "               '2017-01-01 04:00:00+00:00', '2017-01-01 05:00:00+00:00',\n",
       "               '2017-01-01 06:00:00+00:00', '2017-01-01 07:00:00+00:00',\n",
       "               '2017-01-01 08:00:00+00:00', '2017-01-01 09:00:00+00:00'],\n",
       "              dtype='datetime64[ns, Europe/London]', freq='H')"
      ]
     },
     "execution_count": 10,
     "metadata": {},
     "output_type": "execute_result"
    }
   ],
   "source": [
    "rng = pd.date_range(start='1/1/2017', periods=10,freq='H', tz='Europe/London')\n",
    "rng"
   ]
  },
  {
   "cell_type": "code",
   "execution_count": null,
   "id": "94a9c00a",
   "metadata": {},
   "outputs": [],
   "source": []
  }
 ],
 "metadata": {
  "kernelspec": {
   "display_name": "Python 3 (ipykernel)",
   "language": "python",
   "name": "python3"
  },
  "language_info": {
   "codemirror_mode": {
    "name": "ipython",
    "version": 3
   },
   "file_extension": ".py",
   "mimetype": "text/x-python",
   "name": "python",
   "nbconvert_exporter": "python",
   "pygments_lexer": "ipython3",
   "version": "3.11.7"
  }
 },
 "nbformat": 4,
 "nbformat_minor": 5
}
